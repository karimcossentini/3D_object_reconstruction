{
  "nbformat": 4,
  "nbformat_minor": 0,
  "metadata": {
    "colab": {
      "provenance": [],
      "gpuType": "T4"
    },
    "kernelspec": {
      "name": "python3",
      "display_name": "Python 3"
    },
    "language_info": {
      "name": "python"
    },
    "accelerator": "GPU"
  },
  "cells": [
    {
      "cell_type": "code",
      "execution_count": 1,
      "metadata": {
        "colab": {
          "base_uri": "https://localhost:8080/"
        },
        "id": "4jtVTcLYiG4v",
        "outputId": "5c208cb4-8e8e-4c5c-e0e0-4114ca8a4792"
      },
      "outputs": [
        {
          "output_type": "stream",
          "name": "stdout",
          "text": [
            "Cloning into '3D_object_reconstruction'...\n",
            "remote: Enumerating objects: 100, done.\u001b[K\n",
            "remote: Counting objects: 100% (100/100), done.\u001b[K\n",
            "remote: Compressing objects: 100% (81/81), done.\u001b[K\n",
            "remote: Total 100 (delta 8), reused 97 (delta 8), pack-reused 0\u001b[K\n",
            "Receiving objects: 100% (100/100), 143.24 KiB | 7.54 MiB/s, done.\n",
            "Resolving deltas: 100% (8/8), done.\n"
          ]
        }
      ],
      "source": [
        "!git clone https://github.com/karimcossentini/3D_object_reconstruction.git"
      ]
    },
    {
      "cell_type": "code",
      "source": [
        "%cd /content/3D_object_reconstruction\n",
        "!git checkout dev_branch\n",
        "%cd .."
      ],
      "metadata": {
        "colab": {
          "base_uri": "https://localhost:8080/"
        },
        "id": "rULM1uUhi4eK",
        "outputId": "5e283a20-a954-42e7-bc56-da0cb74aaf70"
      },
      "execution_count": 2,
      "outputs": [
        {
          "output_type": "stream",
          "name": "stdout",
          "text": [
            "/content/3D_object_reconstruction\n",
            "Branch 'dev_branch' set up to track remote branch 'dev_branch' from 'origin'.\n",
            "Switched to a new branch 'dev_branch'\n"
          ]
        }
      ]
    },
    {
      "cell_type": "code",
      "source": [
        "from google.colab import drive\n",
        "drive.mount('/content/drive')"
      ],
      "metadata": {
        "colab": {
          "base_uri": "https://localhost:8080/"
        },
        "id": "5AzTNvxtiO-X",
        "outputId": "bc91ac2a-0fbe-4fb7-cb40-b0710154a01a"
      },
      "execution_count": 4,
      "outputs": [
        {
          "output_type": "stream",
          "name": "stdout",
          "text": [
            "Mounted at /content/drive\n"
          ]
        }
      ]
    },
    {
      "cell_type": "code",
      "source": [
        "# Link to pretrained model\n",
        "\n",
        "# https://drive.google.com/file/d/1fqmLIoNqqY3s-ratcQ-_Jzyi4cZnx5ZW/view?usp=sharing\n",
        "!cp /content/drive/MyDrive/mvs_best.pth /content/3D_object_reconstruction/MVSFormer/pretrained_weights"
      ],
      "metadata": {
        "id": "A8MS31ZkiO7I"
      },
      "execution_count": 5,
      "outputs": []
    },
    {
      "cell_type": "code",
      "source": [
        "%cd /content/3D_object_reconstruction\n",
        "!pip install pycolmap\n",
        "!git clone --recursive https://github.com/colmap/pycolmap.git\n"
      ],
      "metadata": {
        "colab": {
          "base_uri": "https://localhost:8080/"
        },
        "id": "v04qud-EjVPY",
        "outputId": "efd68bc7-ae98-4d3b-e1d6-e8422575384d"
      },
      "execution_count": 6,
      "outputs": [
        {
          "output_type": "stream",
          "name": "stdout",
          "text": [
            "/content/3D_object_reconstruction\n",
            "Collecting pycolmap\n",
            "  Downloading pycolmap-0.4.0-cp310-cp310-manylinux2014_x86_64.whl (14.4 MB)\n",
            "\u001b[2K     \u001b[90m━━━━━━━━━━━━━━━━━━━━━━━━━━━━━━━━━━━━━━━━\u001b[0m \u001b[32m14.4/14.4 MB\u001b[0m \u001b[31m78.4 MB/s\u001b[0m eta \u001b[36m0:00:00\u001b[0m\n",
            "\u001b[?25hInstalling collected packages: pycolmap\n",
            "Successfully installed pycolmap-0.4.0\n",
            "Cloning into 'pycolmap'...\n",
            "remote: Enumerating objects: 744, done.\u001b[K\n",
            "remote: Counting objects: 100% (353/353), done.\u001b[K\n",
            "remote: Compressing objects: 100% (163/163), done.\u001b[K\n",
            "remote: Total 744 (delta 261), reused 219 (delta 190), pack-reused 391\u001b[K\n",
            "Receiving objects: 100% (744/744), 252.27 KiB | 5.87 MiB/s, done.\n",
            "Resolving deltas: 100% (471/471), done.\n",
            "Submodule 'pybind11' (https://github.com/pybind/pybind11) registered for path 'pybind11'\n",
            "Cloning into '/content/3D_object_reconstruction/pycolmap/pybind11'...\n",
            "remote: Enumerating objects: 26663, done.        \n",
            "remote: Counting objects: 100% (583/583), done.        \n",
            "remote: Compressing objects: 100% (226/226), done.        \n",
            "remote: Total 26663 (delta 366), reused 479 (delta 321), pack-reused 26080        \n",
            "Receiving objects: 100% (26663/26663), 10.35 MiB | 17.34 MiB/s, done.\n",
            "Resolving deltas: 100% (18686/18686), done.\n",
            "Submodule path 'pybind11': checked out 'f7b499615e14d70ab098a20deb0cdb3889998a1a'\n"
          ]
        }
      ]
    },
    {
      "cell_type": "code",
      "source": [
        "%cd pycolmap\n",
        "!pip install .\n",
        "%cd /content/3D_object_reconstruction"
      ],
      "metadata": {
        "colab": {
          "base_uri": "https://localhost:8080/"
        },
        "id": "7EqvPDSkjnEY",
        "outputId": "22234c46-d33f-4dde-d7ec-f4f18b6ff048"
      },
      "execution_count": 7,
      "outputs": [
        {
          "output_type": "stream",
          "name": "stdout",
          "text": [
            "/content/3D_object_reconstruction/pycolmap\n",
            "Processing /content/3D_object_reconstruction/pycolmap\n",
            "  Preparing metadata (setup.py) ... \u001b[?25l\u001b[?25hdone\n",
            "Building wheels for collected packages: pycolmap\n",
            "  \u001b[1;31merror\u001b[0m: \u001b[1msubprocess-exited-with-error\u001b[0m\n",
            "  \n",
            "  \u001b[31m×\u001b[0m \u001b[32mpython setup.py bdist_wheel\u001b[0m did not run successfully.\n",
            "  \u001b[31m│\u001b[0m exit code: \u001b[1;36m1\u001b[0m\n",
            "  \u001b[31m╰─>\u001b[0m See above for output.\n",
            "  \n",
            "  \u001b[1;35mnote\u001b[0m: This error originates from a subprocess, and is likely not a problem with pip.\n",
            "  Building wheel for pycolmap (setup.py) ... \u001b[?25lerror\n",
            "\u001b[31m  ERROR: Failed building wheel for pycolmap\u001b[0m\u001b[31m\n",
            "\u001b[0m\u001b[?25h  Running setup.py clean for pycolmap\n",
            "Failed to build pycolmap\n",
            "\u001b[31mERROR: Could not build wheels for pycolmap, which is required to install pyproject.toml-based projects\u001b[0m\u001b[31m\n",
            "\u001b[0m/content/3D_object_reconstruction\n"
          ]
        }
      ]
    },
    {
      "cell_type": "code",
      "source": [
        "# Custom datasets\n",
        "# https://drive.google.com/file/d/1OhAncLapePe65JIsY96VNYGQBwAzabeo/view?usp=sharing\n",
        "# https://drive.google.com/file/d/1QtfhKEK8bGzv-5AFS14af2-0N9P_061R/view?usp=sharing\n",
        "\n",
        "\n",
        "import zipfile\n",
        "\n",
        "# Open the ZIP file\n",
        "with zipfile.ZipFile('/content/drive/MyDrive/images_origin_wallet.zip') as zf:\n",
        "\n",
        "    # Extract the folder named \"example_folder\"\n",
        "    for zip_info in zf.infolist():\n",
        "        zf.extract(zip_info, path='/content/3D_object_reconstruction')"
      ],
      "metadata": {
        "id": "fPqgQ-9ijsSg"
      },
      "execution_count": 8,
      "outputs": []
    },
    {
      "cell_type": "code",
      "source": [
        "import pycolmap\n",
        "import os\n",
        "# Create a new folder named \"my_folder\" in the current working directory\n",
        "folder_name = \"/content/3D_object_reconstruction/output\"\n",
        "if not os.path.exists(folder_name):\n",
        "    os.makedirs(folder_name)\n",
        "else:\n",
        "    shutil.rmtree(folder_name)\n",
        "    os.makedirs(folder_name)\n",
        "\n",
        "output_path = \"/content/3D_object_reconstruction/output\"\n",
        "mvs_path = output_path + \"/mvs\"\n",
        "database_path = output_path + \"/database.db\"\n",
        "image_dir = \"/content/3D_object_reconstruction/images_origin_ordered _49\"\n",
        "\n",
        "pycolmap.extract_features(database_path, image_dir)\n",
        "pycolmap.match_exhaustive(database_path)\n",
        "maps = pycolmap.incremental_mapping(database_path, image_dir, output_path)\n",
        "maps[0].write(output_path)\n",
        "pycolmap.undistort_images(mvs_path, output_path, image_dir)"
      ],
      "metadata": {
        "id": "bIPwYK02laP5"
      },
      "execution_count": 9,
      "outputs": []
    },
    {
      "cell_type": "code",
      "source": [
        "reconstruction = pycolmap.Reconstruction(\"/content/3D_object_reconstruction/output/mvs/sparse/\")\n",
        "\n",
        "folder_name = \"/content/3D_object_reconstruction/dense\"\n",
        "if not os.path.exists(folder_name):\n",
        "    os.makedirs(folder_name)\n",
        "else:\n",
        "  shutil.rmtree(folder_name)\n",
        "  os.makedirs(folder_name)\n",
        "  print('dense deleted')\n",
        "\n",
        "!cp -r /content/3D_object_reconstruction/output/mvs/images /content/dense\n",
        "\n",
        "folder_name = \"/content/3D_object_reconstruction/dense/sparse\"\n",
        "if not os.path.exists(folder_name):\n",
        "    os.makedirs(folder_name)\n",
        "else:\n",
        "  shutil.rmtree(folder_name)\n",
        "  os.makedirs(folder_name)\n",
        "\n",
        "\n",
        "reconstruction.write_text(\"/content/3D_object_reconstruction/dense/sparse\")\n"
      ],
      "metadata": {
        "colab": {
          "base_uri": "https://localhost:8080/"
        },
        "id": "__cKiklclaMQ",
        "outputId": "5bf0942a-a0b2-49f7-b9e1-2b40242feb01"
      },
      "execution_count": 11,
      "outputs": [
        {
          "output_type": "stream",
          "name": "stdout",
          "text": [
            "cp: cannot stat '/content/output/mvs/images': No such file or directory\n"
          ]
        }
      ]
    },
    {
      "cell_type": "markdown",
      "source": [
        "**Convert the colmap output to mvsnet input**\n"
      ],
      "metadata": {
        "id": "zwwno8MZl-Eo"
      }
    },
    {
      "cell_type": "code",
      "source": [
        "!python /content/3D_object_reconstruction/colmap2mvsnet.py --dense_folder /content/3D_object_reconstruction/dense\n"
      ],
      "metadata": {
        "colab": {
          "base_uri": "https://localhost:8080/"
        },
        "id": "YRjaMzwSlwkh",
        "outputId": "f15aabeb-1fcc-4690-c054-d3b1617d8c19"
      },
      "execution_count": 16,
      "outputs": [
        {
          "output_type": "stream",
          "name": "stdout",
          "text": [
            "intrinsic[1]\n",
            " [[3.17755634e+03 0.00000000e+00 2.03250000e+03]\n",
            " [0.00000000e+00 3.17755634e+03 1.51850000e+03]\n",
            " [0.00000000e+00 0.00000000e+00 1.00000000e+00]]\n",
            "\n",
            "extrinsic[1]\n",
            " [[ 0.98867494  0.08916087  0.12071537  3.54816306]\n",
            " [ 0.02345066  0.70271077 -0.71108905  2.56421395]\n",
            " [-0.14822931  0.70586678  0.69266165  2.59307306]\n",
            " [ 0.          0.          0.          1.        ]]\n",
            "\n",
            "/content/3D_object_reconstruction/colmap2mvsnet.py:353: DeprecationWarning: np.asscalar(a) is deprecated since NumPy v1.16, use a.item() instead\n",
            "  zs.append(np.asscalar(transformed[2]))\n",
            "depth_ranges[1]\n",
            " (5.0218053364726405, 0.004353802084687307, 2024.55647651424, 13.83196974240284)\n",
            "\n",
            "/content/3D_object_reconstruction/colmap2mvsnet.py:395: RuntimeWarning: invalid value encountered in arccos\n",
            "  theta = (180 / np.pi) * np.arccos(np.dot(cam_center_i - p, cam_center_j - p) / np.linalg.norm(cam_center_i - p) / np.linalg.norm(cam_center_j - p))\n",
            "view_sel[0]\n",
            " [(1, 29.682467402945328), (2, 11.970573229362266), (7, 4.335405350110128), (8, 3.9394221375322807), (6, 0.6156308614004818), (3, 0.3603677205981738), (5, 0.005983143968570013), (4, 7.769779990652827e-05), (48, 0.0), (15, 0.0)]\n",
            "\n",
            "Traceback (most recent call last):\n",
            "  File \"/content/3D_object_reconstruction/colmap2mvsnet.py\", line 439, in <module>\n",
            "    shutil.copyfile(os.path.join(image_dir, images[i+1].name), os.path.join(renamed_dir, '%08d.jpg' % i))\n",
            "  File \"/usr/lib/python3.10/shutil.py\", line 234, in copyfile\n",
            "    raise SameFileError(\"{!r} and {!r} are the same file\".format(src, dst))\n",
            "shutil.SameFileError: '/content/3D_object_reconstruction/dense/images/00000015.jpg' and '/content/3D_object_reconstruction/dense/images/00000015.jpg' are the same file\n"
          ]
        }
      ]
    },
    {
      "cell_type": "markdown",
      "source": [
        "**Set up MVSFormer configuration**"
      ],
      "metadata": {
        "id": "sGz6HMsdmP2o"
      }
    },
    {
      "cell_type": "code",
      "source": [
        "!sudo update-alternatives --install /usr/bin/python3 python3 /usr/bin/python3.8 1\n",
        "!sudo update-alternatives --set python3 /usr/bin/python3.8\n",
        "!sudo apt-get install python3-pip\n",
        "!python3 --version\n"
      ],
      "metadata": {
        "colab": {
          "base_uri": "https://localhost:8080/"
        },
        "id": "rtK08ksAlwiM",
        "outputId": "3f867397-e45a-4bb5-ea7b-5f6f0bfb28b8"
      },
      "execution_count": 17,
      "outputs": [
        {
          "output_type": "stream",
          "name": "stdout",
          "text": [
            "update-alternatives: using /usr/bin/python3.8 to provide /usr/bin/python3 (python3) in manual mode\n",
            "Reading package lists... Done\n",
            "Building dependency tree       \n",
            "Reading state information... Done\n",
            "The following additional packages will be installed:\n",
            "  python-pip-whl python3-setuptools python3-wheel\n",
            "Suggested packages:\n",
            "  python-setuptools-doc\n",
            "The following NEW packages will be installed:\n",
            "  python-pip-whl python3-pip python3-setuptools python3-wheel\n",
            "0 upgraded, 4 newly installed, 0 to remove and 15 not upgraded.\n",
            "Need to get 2,389 kB of archives.\n",
            "After this operation, 4,933 kB of additional disk space will be used.\n",
            "Get:1 http://archive.ubuntu.com/ubuntu focal-updates/universe amd64 python-pip-whl all 20.0.2-5ubuntu1.9 [1,805 kB]\n",
            "Get:2 http://archive.ubuntu.com/ubuntu focal-updates/main amd64 python3-setuptools all 45.2.0-1ubuntu0.1 [330 kB]\n",
            "Get:3 http://archive.ubuntu.com/ubuntu focal-updates/universe amd64 python3-wheel all 0.34.2-1ubuntu0.1 [23.9 kB]\n",
            "Get:4 http://archive.ubuntu.com/ubuntu focal-updates/universe amd64 python3-pip all 20.0.2-5ubuntu1.9 [231 kB]\n",
            "Fetched 2,389 kB in 0s (17.9 MB/s)\n",
            "debconf: unable to initialize frontend: Dialog\n",
            "debconf: (No usable dialog-like program is installed, so the dialog based frontend cannot be used. at /usr/share/perl5/Debconf/FrontEnd/Dialog.pm line 76, <> line 4.)\n",
            "debconf: falling back to frontend: Readline\n",
            "debconf: unable to initialize frontend: Readline\n",
            "debconf: (This frontend requires a controlling tty.)\n",
            "debconf: falling back to frontend: Teletype\n",
            "dpkg-preconfigure: unable to re-open stdin: \n",
            "Selecting previously unselected package python-pip-whl.\n",
            "(Reading database ... 123105 files and directories currently installed.)\n",
            "Preparing to unpack .../python-pip-whl_20.0.2-5ubuntu1.9_all.deb ...\n",
            "Unpacking python-pip-whl (20.0.2-5ubuntu1.9) ...\n",
            "Selecting previously unselected package python3-setuptools.\n",
            "Preparing to unpack .../python3-setuptools_45.2.0-1ubuntu0.1_all.deb ...\n",
            "Unpacking python3-setuptools (45.2.0-1ubuntu0.1) ...\n",
            "Selecting previously unselected package python3-wheel.\n",
            "Preparing to unpack .../python3-wheel_0.34.2-1ubuntu0.1_all.deb ...\n",
            "Unpacking python3-wheel (0.34.2-1ubuntu0.1) ...\n",
            "Selecting previously unselected package python3-pip.\n",
            "Preparing to unpack .../python3-pip_20.0.2-5ubuntu1.9_all.deb ...\n",
            "Unpacking python3-pip (20.0.2-5ubuntu1.9) ...\n",
            "Setting up python3-setuptools (45.2.0-1ubuntu0.1) ...\n",
            "Setting up python3-wheel (0.34.2-1ubuntu0.1) ...\n",
            "Setting up python-pip-whl (20.0.2-5ubuntu1.9) ...\n",
            "Setting up python3-pip (20.0.2-5ubuntu1.9) ...\n",
            "Processing triggers for man-db (2.9.1-1) ...\n",
            "Python 3.8.10\n"
          ]
        }
      ]
    },
    {
      "cell_type": "code",
      "source": [
        "# add this line to /content/3D_object_reconstruction/MVSFormer/requirements.txt right above torch==1.9.0+cu111\n",
        "# --find-links https://download.pytorch.org/whl/torch_stable.html\n"
      ],
      "metadata": {
        "id": "MlOM0LDAo_5x"
      },
      "execution_count": 10,
      "outputs": []
    },
    {
      "cell_type": "code",
      "source": [
        "!pip install -r /content/3D_object_reconstruction/MVSFormer/requirements.txt\n"
      ],
      "metadata": {
        "colab": {
          "base_uri": "https://localhost:8080/"
        },
        "id": "gt8Ul8ymlwdg",
        "outputId": "6abd7f7b-95dc-4925-de5d-67cc65c56dfe"
      },
      "execution_count": 18,
      "outputs": [
        {
          "output_type": "stream",
          "name": "stdout",
          "text": [
            "Looking in links: https://download.pytorch.org/whl/torch_stable.html\n",
            "Collecting numpy==1.20.1\n",
            "  Downloading numpy-1.20.1-cp38-cp38-manylinux2010_x86_64.whl (15.4 MB)\n",
            "\u001b[K     |████████████████████████████████| 15.4 MB 12.6 MB/s \n",
            "\u001b[?25hCollecting omegaconf==2.1.1\n",
            "  Downloading omegaconf-2.1.1-py3-none-any.whl (74 kB)\n",
            "\u001b[K     |████████████████████████████████| 74 kB 136 kB/s \n",
            "\u001b[?25hCollecting opencv_python==4.5.5.62\n",
            "  Downloading opencv_python-4.5.5.62-cp36-abi3-manylinux_2_17_x86_64.manylinux2014_x86_64.whl (60.4 MB)\n",
            "\u001b[K     |████████████████████████████████| 60.4 MB 1.1 MB/s \n",
            "\u001b[?25hCollecting Pillow==9.3.0\n",
            "  Downloading Pillow-9.3.0-cp38-cp38-manylinux_2_17_x86_64.manylinux2014_x86_64.whl (3.2 MB)\n",
            "\u001b[K     |████████████████████████████████| 3.2 MB 68.9 MB/s \n",
            "\u001b[?25hCollecting plyfile==0.7.4\n",
            "  Downloading plyfile-0.7.4-py3-none-any.whl (39 kB)\n",
            "Collecting PyYAML==6.0\n",
            "  Downloading PyYAML-6.0-cp38-cp38-manylinux_2_5_x86_64.manylinux1_x86_64.manylinux_2_12_x86_64.manylinux2010_x86_64.whl (701 kB)\n",
            "\u001b[K     |████████████████████████████████| 701 kB 73.3 MB/s \n",
            "\u001b[?25hCollecting tensorboardX==2.5.1\n",
            "  Downloading tensorboardX-2.5.1-py2.py3-none-any.whl (125 kB)\n",
            "\u001b[K     |████████████████████████████████| 125 kB 75.3 MB/s \n",
            "\u001b[?25hCollecting timm==0.3.2\n",
            "  Downloading timm-0.3.2-py3-none-any.whl (244 kB)\n",
            "\u001b[K     |████████████████████████████████| 244 kB 69.4 MB/s \n",
            "\u001b[?25hCollecting torch==1.9.0+cu111\n",
            "  Downloading https://download.pytorch.org/whl/cu111/torch-1.9.0%2Bcu111-cp38-cp38-linux_x86_64.whl (2041.3 MB)\n",
            "\u001b[K     |████████████████████████████████| 2041.3 MB 2.0 kB/s \n",
            "\u001b[?25hCollecting torchvision==0.10.0+cu111\n",
            "  Downloading https://download.pytorch.org/whl/cu111/torchvision-0.10.0%2Bcu111-cp38-cp38-linux_x86_64.whl (23.2 MB)\n",
            "\u001b[K     |████████████████████████████████| 23.2 MB 54.1 MB/s \n",
            "\u001b[?25hCollecting tqdm==4.59.0\n",
            "  Downloading tqdm-4.59.0-py2.py3-none-any.whl (74 kB)\n",
            "\u001b[K     |████████████████████████████████| 74 kB 2.4 MB/s \n",
            "\u001b[?25hCollecting antlr4-python3-runtime==4.8\n",
            "  Downloading antlr4-python3-runtime-4.8.tar.gz (112 kB)\n",
            "\u001b[K     |████████████████████████████████| 112 kB 75.4 MB/s \n",
            "\u001b[?25hCollecting protobuf<=3.20.1,>=3.8.0\n",
            "  Downloading protobuf-3.20.1-cp38-cp38-manylinux_2_5_x86_64.manylinux1_x86_64.whl (1.0 MB)\n",
            "\u001b[K     |████████████████████████████████| 1.0 MB 58.5 MB/s \n",
            "\u001b[?25hCollecting typing-extensions\n",
            "  Downloading typing_extensions-4.7.1-py3-none-any.whl (33 kB)\n",
            "Building wheels for collected packages: antlr4-python3-runtime\n",
            "  Building wheel for antlr4-python3-runtime (setup.py) ... \u001b[?25l\u001b[?25hdone\n",
            "  Created wheel for antlr4-python3-runtime: filename=antlr4_python3_runtime-4.8-py3-none-any.whl size=141230 sha256=f10824fee7561bf66749532aedf4fbd27281cfc3651eb57ed1587ad4eb20a96c\n",
            "  Stored in directory: /root/.cache/pip/wheels/c8/d0/ab/d43c02eaddc5b9004db86950802442ad9a26f279c619e28da0\n",
            "Successfully built antlr4-python3-runtime\n",
            "Installing collected packages: numpy, antlr4-python3-runtime, PyYAML, omegaconf, opencv-python, Pillow, plyfile, protobuf, tensorboardX, typing-extensions, torch, torchvision, timm, tqdm\n",
            "Successfully installed Pillow-9.3.0 PyYAML-6.0 antlr4-python3-runtime-4.8 numpy-1.20.1 omegaconf-2.1.1 opencv-python-4.5.5.62 plyfile-0.7.4 protobuf-3.20.1 tensorboardX-2.5.1 timm-0.3.2 torch-1.9.0+cu111 torchvision-0.10.0+cu111 tqdm-4.59.0 typing-extensions-4.7.1\n"
          ]
        }
      ]
    },
    {
      "cell_type": "code",
      "source": [
        "import shutil\n",
        "\n",
        "# Specify the source and destination file paths\n",
        "src_path = '/content/drive/MyDrive/helpers.py'\n",
        "dst_path = '/usr/local/lib/python3.8/dist-packages/timm/models/layers/helpers.py'\n",
        "\n",
        "# Copy the source file to the destination file, overwriting it if it already exists\n",
        "shutil.copyfile(src_path, dst_path)"
      ],
      "metadata": {
        "colab": {
          "base_uri": "https://localhost:8080/",
          "height": 35
        },
        "id": "sEPe9rV8mZ41",
        "outputId": "e7a90914-06de-441a-cd0d-98b0188557a9"
      },
      "execution_count": 19,
      "outputs": [
        {
          "output_type": "execute_result",
          "data": {
            "text/plain": [
              "'/usr/local/lib/python3.8/dist-packages/timm/models/layers/helpers.py'"
            ],
            "application/vnd.google.colaboratory.intrinsic+json": {
              "type": "string"
            }
          },
          "metadata": {},
          "execution_count": 19
        }
      ]
    },
    {
      "cell_type": "code",
      "source": [
        "!git clone https://github.com/YoYo000/fusibile.git"
      ],
      "metadata": {
        "colab": {
          "base_uri": "https://localhost:8080/"
        },
        "id": "1CUdN69EmZ21",
        "outputId": "c9c9b424-af3a-4d78-dcc1-53cfe9aba818"
      },
      "execution_count": 20,
      "outputs": [
        {
          "output_type": "stream",
          "name": "stdout",
          "text": [
            "Cloning into 'fusibile'...\n",
            "remote: Enumerating objects: 85, done.\u001b[K\n",
            "remote: Counting objects: 100% (33/33), done.\u001b[K\n",
            "remote: Compressing objects: 100% (7/7), done.\u001b[K\n",
            "remote: Total 85 (delta 29), reused 26 (delta 26), pack-reused 52\u001b[K\n",
            "Unpacking objects: 100% (85/85), 60.78 KiB | 1.69 MiB/s, done.\n"
          ]
        }
      ]
    },
    {
      "cell_type": "code",
      "source": [
        "#set -gencode arch=compute_75,code=sm_75 instead of -gencode arch=compute_60,code=sm_60 in fusible/CMakeLists.txt in case you are using Tesla T4 GPU\n"
      ],
      "metadata": {
        "id": "ejldAKnGm5dg"
      },
      "execution_count": null,
      "outputs": []
    },
    {
      "cell_type": "code",
      "source": [
        "!pip install cmake"
      ],
      "metadata": {
        "colab": {
          "base_uri": "https://localhost:8080/"
        },
        "id": "fCpHW4U2mZ0a",
        "outputId": "d4c15fb1-be4a-4d44-cfd9-d3218d4779d2"
      },
      "execution_count": 22,
      "outputs": [
        {
          "output_type": "stream",
          "name": "stdout",
          "text": [
            "Collecting cmake\n",
            "  Using cached cmake-3.26.4-py2.py3-none-manylinux2014_x86_64.manylinux_2_17_x86_64.whl (24.0 MB)\n",
            "Installing collected packages: cmake\n",
            "Successfully installed cmake-3.26.4\n"
          ]
        }
      ]
    },
    {
      "cell_type": "code",
      "source": [
        "%cd fusibile\n",
        "!cmake .\n",
        "!make\n",
        "%cd .."
      ],
      "metadata": {
        "colab": {
          "base_uri": "https://localhost:8080/"
        },
        "id": "xypPmcTPnBsk",
        "outputId": "41b0cccd-bc1e-4e8c-b6db-5bfff3c068ec"
      },
      "execution_count": 23,
      "outputs": [
        {
          "output_type": "stream",
          "name": "stdout",
          "text": [
            "/content/3D_object_reconstruction/fusibile\n",
            "\u001b[0mCMake Deprecation Warning at CMakeLists.txt:1 (cmake_minimum_required):\n",
            "  Compatibility with CMake < 2.8.12 will be removed from a future version of\n",
            "  CMake.\n",
            "\n",
            "  Update the VERSION argument <min> value or use a ...<max> suffix to tell\n",
            "  CMake that the project does not need compatibility with older versions.\n",
            "\n",
            "\u001b[0m\n",
            "-- The C compiler identification is GNU 9.4.0\n",
            "-- The CXX compiler identification is GNU 9.4.0\n",
            "-- Detecting C compiler ABI info\n",
            "-- Detecting C compiler ABI info - done\n",
            "-- Check for working C compiler: /usr/bin/cc - skipped\n",
            "-- Detecting C compile features\n",
            "-- Detecting C compile features - done\n",
            "-- Detecting CXX compiler ABI info\n",
            "-- Detecting CXX compiler ABI info - done\n",
            "-- Check for working CXX compiler: /usr/bin/c++ - skipped\n",
            "-- Detecting CXX compile features\n",
            "-- Detecting CXX compile features - done\n",
            "-- Found OpenCV: /usr (found version \"4.2.0\") \n",
            "-- Performing Test CMAKE_HAVE_LIBC_PTHREAD\n",
            "-- Performing Test CMAKE_HAVE_LIBC_PTHREAD - Failed\n",
            "-- Looking for pthread_create in pthreads\n",
            "-- Looking for pthread_create in pthreads - not found\n",
            "-- Looking for pthread_create in pthread\n",
            "-- Looking for pthread_create in pthread - found\n",
            "-- Found Threads: TRUE  \n",
            "-- Found CUDA: /usr/local/cuda (found suitable version \"11.8\", minimum required is \"6.0\") \n",
            "-- Found OpenMP_C: -fopenmp (found version \"4.5\") \n",
            "-- Found OpenMP_CXX: -fopenmp (found version \"4.5\") \n",
            "-- Found OpenMP: TRUE (found version \"4.5\")  \n",
            "-- Configuring done (2.0s)\n",
            "-- Generating done (0.0s)\n",
            "-- Build files have been written to: /content/3D_object_reconstruction/fusibile\n",
            "[ 33%] \u001b[34m\u001b[1mBuilding NVCC (Device) object CMakeFiles/fusibile.dir/fusibile_generated_fusibile.cu.o\u001b[0m\n",
            "/content/3D_object_reconstruction/fusibile/fusibile.cu(178): warning #550-D: variable \"used_list\" was set but never used\n",
            "\n",
            "/content/3D_object_reconstruction/fusibile/fusibile.cu(372): warning #550-D: variable \"grid_size\" was set but never used\n",
            "\n",
            "/content/3D_object_reconstruction/fusibile/fusibile.cu(375): warning #550-D: variable \"block_size\" was set but never used\n",
            "\n",
            "ptxas info    : 218176 bytes gmem, 72 bytes cmem[3]\n",
            "ptxas info    : Compiling entry function '_Z8fusibileR11GlobalStatei' for 'sm_75'\n",
            "ptxas info    : Function properties for _Z8fusibileR11GlobalStatei\n",
            "    0 bytes stack frame, 0 bytes spill stores, 0 bytes spill loads\n",
            "ptxas info    : Used 60 registers, 364 bytes cmem[0]\n",
            "/content/3D_object_reconstruction/fusibile/fusibile.cu: In function ‘void copy_point_cloud_to_host(GlobalState&, int, PointCloudList&)’:\n",
            "/content/3D_object_reconstruction/fusibile/fusibile.cu:289:7: warning: ‘texture4[3]’ may be used uninitialized in this function [-Wmaybe-uninitialized]\n",
            "  289 |             float texture4[4];\n",
            "      |       ^     ~~\n",
            "/content/3D_object_reconstruction/fusibile/fusibile.cu:289:7: warning: ‘texture4[1]’ may be used uninitialized in this function [-Wmaybe-uninitialized]\n",
            "/content/3D_object_reconstruction/fusibile/fusibile.cu:289:7: warning: ‘texture4[0]’ may be used uninitialized in this function [-Wmaybe-uninitialized]\n",
            "/content/3D_object_reconstruction/fusibile/fusibile.cu:289:7: warning: ‘texture4[2]’ may be used uninitialized in this function [-Wmaybe-uninitialized]\n",
            "[ 66%] \u001b[32mBuilding CXX object CMakeFiles/fusibile.dir/main.cpp.o\u001b[0m\n",
            "In file included from \u001b[01m\u001b[K/content/3D_object_reconstruction/fusibile/main.cpp:32\u001b[m\u001b[K:\n",
            "\u001b[01m\u001b[K/content/3D_object_reconstruction/fusibile/helper_cuda.h:\u001b[m\u001b[K In function ‘\u001b[01m\u001b[Kconst char* _cudaGetErrorEnum(cudaError_t)\u001b[m\u001b[K’:\n",
            "\u001b[01m\u001b[K/content/3D_object_reconstruction/fusibile/helper_cuda.h:38:12:\u001b[m\u001b[K \u001b[01;35m\u001b[Kwarning: \u001b[m\u001b[Kenumeration value ‘\u001b[01m\u001b[KcudaErrorStubLibrary\u001b[m\u001b[K’ not handled in switch [\u001b[01;35m\u001b[K-Wswitch\u001b[m\u001b[K]\n",
            "   38 |     switch \u001b[01;35m\u001b[K(\u001b[m\u001b[Kerror)\n",
            "      |            \u001b[01;35m\u001b[K^\u001b[m\u001b[K\n",
            "\u001b[01m\u001b[K/content/3D_object_reconstruction/fusibile/helper_cuda.h:38:12:\u001b[m\u001b[K \u001b[01;35m\u001b[Kwarning: \u001b[m\u001b[Kenumeration value ‘\u001b[01m\u001b[KcudaErrorCallRequiresNewerDriver\u001b[m\u001b[K’ not handled in switch [\u001b[01;35m\u001b[K-Wswitch\u001b[m\u001b[K]\n",
            "\u001b[01m\u001b[K/content/3D_object_reconstruction/fusibile/helper_cuda.h:38:12:\u001b[m\u001b[K \u001b[01;35m\u001b[Kwarning: \u001b[m\u001b[Kenumeration value ‘\u001b[01m\u001b[KcudaErrorDeviceNotLicensed\u001b[m\u001b[K’ not handled in switch [\u001b[01;35m\u001b[K-Wswitch\u001b[m\u001b[K]\n",
            "\u001b[01m\u001b[K/content/3D_object_reconstruction/fusibile/helper_cuda.h:38:12:\u001b[m\u001b[K \u001b[01;35m\u001b[Kwarning: \u001b[m\u001b[Kenumeration value ‘\u001b[01m\u001b[KcudaErrorSoftwareValidityNotEstablished\u001b[m\u001b[K’ not handled in switch [\u001b[01;35m\u001b[K-Wswitch\u001b[m\u001b[K]\n",
            "\u001b[01m\u001b[K/content/3D_object_reconstruction/fusibile/helper_cuda.h:38:12:\u001b[m\u001b[K \u001b[01;35m\u001b[Kwarning: \u001b[m\u001b[Kenumeration value ‘\u001b[01m\u001b[KcudaErrorDeviceUninitialized\u001b[m\u001b[K’ not handled in switch [\u001b[01;35m\u001b[K-Wswitch\u001b[m\u001b[K]\n",
            "\u001b[01m\u001b[K/content/3D_object_reconstruction/fusibile/helper_cuda.h:38:12:\u001b[m\u001b[K \u001b[01;35m\u001b[Kwarning: \u001b[m\u001b[Kenumeration value ‘\u001b[01m\u001b[KcudaErrorArrayIsMapped\u001b[m\u001b[K’ not handled in switch [\u001b[01;35m\u001b[K-Wswitch\u001b[m\u001b[K]\n",
            "\u001b[01m\u001b[K/content/3D_object_reconstruction/fusibile/helper_cuda.h:38:12:\u001b[m\u001b[K \u001b[01;35m\u001b[Kwarning: \u001b[m\u001b[Kenumeration value ‘\u001b[01m\u001b[KcudaErrorAlreadyMapped\u001b[m\u001b[K’ not handled in switch [\u001b[01;35m\u001b[K-Wswitch\u001b[m\u001b[K]\n",
            "\u001b[01m\u001b[K/content/3D_object_reconstruction/fusibile/helper_cuda.h:38:12:\u001b[m\u001b[K \u001b[01;35m\u001b[Kwarning: \u001b[m\u001b[Kenumeration value ‘\u001b[01m\u001b[KcudaErrorAlreadyAcquired\u001b[m\u001b[K’ not handled in switch [\u001b[01;35m\u001b[K-Wswitch\u001b[m\u001b[K]\n",
            "\u001b[01m\u001b[K/content/3D_object_reconstruction/fusibile/helper_cuda.h:38:12:\u001b[m\u001b[K \u001b[01;35m\u001b[Kwarning: \u001b[m\u001b[Kenumeration value ‘\u001b[01m\u001b[KcudaErrorNotMapped\u001b[m\u001b[K’ not handled in switch [\u001b[01;35m\u001b[K-Wswitch\u001b[m\u001b[K]\n",
            "\u001b[01m\u001b[K/content/3D_object_reconstruction/fusibile/helper_cuda.h:38:12:\u001b[m\u001b[K \u001b[01;35m\u001b[Kwarning: \u001b[m\u001b[Kenumeration value ‘\u001b[01m\u001b[KcudaErrorNotMappedAsArray\u001b[m\u001b[K’ not handled in switch [\u001b[01;35m\u001b[K-Wswitch\u001b[m\u001b[K]\n",
            "\u001b[01m\u001b[K/content/3D_object_reconstruction/fusibile/helper_cuda.h:38:12:\u001b[m\u001b[K \u001b[01;35m\u001b[Kwarning: \u001b[m\u001b[Kenumeration value ‘\u001b[01m\u001b[KcudaErrorNotMappedAsPointer\u001b[m\u001b[K’ not handled in switch [\u001b[01;35m\u001b[K-Wswitch\u001b[m\u001b[K]\n",
            "\u001b[01m\u001b[K/content/3D_object_reconstruction/fusibile/helper_cuda.h:38:12:\u001b[m\u001b[K \u001b[01;35m\u001b[Kwarning: \u001b[m\u001b[Kenumeration value ‘\u001b[01m\u001b[KcudaErrorNvlinkUncorrectable\u001b[m\u001b[K’ not handled in switch [\u001b[01;35m\u001b[K-Wswitch\u001b[m\u001b[K]\n",
            "\u001b[01m\u001b[K/content/3D_object_reconstruction/fusibile/helper_cuda.h:38:12:\u001b[m\u001b[K \u001b[01;35m\u001b[Kwarning: \u001b[m\u001b[Kenumeration value ‘\u001b[01m\u001b[KcudaErrorJitCompilerNotFound\u001b[m\u001b[K’ not handled in switch [\u001b[01;35m\u001b[K-Wswitch\u001b[m\u001b[K]\n",
            "\u001b[01m\u001b[K/content/3D_object_reconstruction/fusibile/helper_cuda.h:38:12:\u001b[m\u001b[K \u001b[01;35m\u001b[Kwarning: \u001b[m\u001b[Kenumeration value ‘\u001b[01m\u001b[KcudaErrorUnsupportedPtxVersion\u001b[m\u001b[K’ not handled in switch [\u001b[01;35m\u001b[K-Wswitch\u001b[m\u001b[K]\n",
            "\u001b[01m\u001b[K/content/3D_object_reconstruction/fusibile/helper_cuda.h:38:12:\u001b[m\u001b[K \u001b[01;35m\u001b[Kwarning: \u001b[m\u001b[Kenumeration value ‘\u001b[01m\u001b[KcudaErrorJitCompilationDisabled\u001b[m\u001b[K’ not handled in switch [\u001b[01;35m\u001b[K-Wswitch\u001b[m\u001b[K]\n",
            "\u001b[01m\u001b[K/content/3D_object_reconstruction/fusibile/helper_cuda.h:38:12:\u001b[m\u001b[K \u001b[01;35m\u001b[Kwarning: \u001b[m\u001b[Kenumeration value ‘\u001b[01m\u001b[KcudaErrorUnsupportedExecAffinity\u001b[m\u001b[K’ not handled in switch [\u001b[01;35m\u001b[K-Wswitch\u001b[m\u001b[K]\n",
            "\u001b[01m\u001b[K/content/3D_object_reconstruction/fusibile/helper_cuda.h:38:12:\u001b[m\u001b[K \u001b[01;35m\u001b[Kwarning: \u001b[m\u001b[Kenumeration value ‘\u001b[01m\u001b[KcudaErrorInvalidSource\u001b[m\u001b[K’ not handled in switch [\u001b[01;35m\u001b[K-Wswitch\u001b[m\u001b[K]\n",
            "\u001b[01m\u001b[K/content/3D_object_reconstruction/fusibile/helper_cuda.h:38:12:\u001b[m\u001b[K \u001b[01;35m\u001b[Kwarning: \u001b[m\u001b[Kenumeration value ‘\u001b[01m\u001b[KcudaErrorFileNotFound\u001b[m\u001b[K’ not handled in switch [\u001b[01;35m\u001b[K-Wswitch\u001b[m\u001b[K]\n",
            "\u001b[01m\u001b[K/content/3D_object_reconstruction/fusibile/helper_cuda.h:38:12:\u001b[m\u001b[K \u001b[01;35m\u001b[Kwarning: \u001b[m\u001b[Kenumeration value ‘\u001b[01m\u001b[KcudaErrorIllegalState\u001b[m\u001b[K’ not handled in switch [\u001b[01;35m\u001b[K-Wswitch\u001b[m\u001b[K]\n",
            "\u001b[01m\u001b[K/content/3D_object_reconstruction/fusibile/helper_cuda.h:38:12:\u001b[m\u001b[K \u001b[01;35m\u001b[Kwarning: \u001b[m\u001b[Kenumeration value ‘\u001b[01m\u001b[KcudaErrorSymbolNotFound\u001b[m\u001b[K’ not handled in switch [\u001b[01;35m\u001b[K-Wswitch\u001b[m\u001b[K]\n",
            "\u001b[01m\u001b[K/content/3D_object_reconstruction/fusibile/helper_cuda.h:38:12:\u001b[m\u001b[K \u001b[01;35m\u001b[Kwarning: \u001b[m\u001b[Kenumeration value ‘\u001b[01m\u001b[KcudaErrorLaunchIncompatibleTexturing\u001b[m\u001b[K’ not handled in switch [\u001b[01;35m\u001b[K-Wswitch\u001b[m\u001b[K]\n",
            "\u001b[01m\u001b[K/content/3D_object_reconstruction/fusibile/helper_cuda.h:38:12:\u001b[m\u001b[K \u001b[01;35m\u001b[Kwarning: \u001b[m\u001b[Kenumeration value ‘\u001b[01m\u001b[KcudaErrorContextIsDestroyed\u001b[m\u001b[K’ not handled in switch [\u001b[01;35m\u001b[K-Wswitch\u001b[m\u001b[K]\n",
            "\u001b[01m\u001b[K/content/3D_object_reconstruction/fusibile/helper_cuda.h:38:12:\u001b[m\u001b[K \u001b[01;35m\u001b[Kwarning: \u001b[m\u001b[Kenumeration value ‘\u001b[01m\u001b[KcudaErrorCooperativeLaunchTooLarge\u001b[m\u001b[K’ not handled in switch [\u001b[01;35m\u001b[K-Wswitch\u001b[m\u001b[K]\n",
            "\u001b[01m\u001b[K/content/3D_object_reconstruction/fusibile/helper_cuda.h:38:12:\u001b[m\u001b[K \u001b[01;35m\u001b[Kwarning: \u001b[m\u001b[Kenumeration value ‘\u001b[01m\u001b[KcudaErrorSystemNotReady\u001b[m\u001b[K’ not handled in switch [\u001b[01;35m\u001b[K-Wswitch\u001b[m\u001b[K]\n",
            "\u001b[01m\u001b[K/content/3D_object_reconstruction/fusibile/helper_cuda.h:38:12:\u001b[m\u001b[K \u001b[01;35m\u001b[Kwarning: \u001b[m\u001b[Kenumeration value ‘\u001b[01m\u001b[KcudaErrorSystemDriverMismatch\u001b[m\u001b[K’ not handled in switch [\u001b[01;35m\u001b[K-Wswitch\u001b[m\u001b[K]\n",
            "\u001b[01m\u001b[K/content/3D_object_reconstruction/fusibile/helper_cuda.h:38:12:\u001b[m\u001b[K \u001b[01;35m\u001b[Kwarning: \u001b[m\u001b[Kenumeration value ‘\u001b[01m\u001b[KcudaErrorCompatNotSupportedOnDevice\u001b[m\u001b[K’ not handled in switch [\u001b[01;35m\u001b[K-Wswitch\u001b[m\u001b[K]\n",
            "\u001b[01m\u001b[K/content/3D_object_reconstruction/fusibile/helper_cuda.h:38:12:\u001b[m\u001b[K \u001b[01;35m\u001b[Kwarning: \u001b[m\u001b[Kenumeration value ‘\u001b[01m\u001b[KcudaErrorMpsConnectionFailed\u001b[m\u001b[K’ not handled in switch [\u001b[01;35m\u001b[K-Wswitch\u001b[m\u001b[K]\n",
            "\u001b[01m\u001b[K/content/3D_object_reconstruction/fusibile/helper_cuda.h:38:12:\u001b[m\u001b[K \u001b[01;35m\u001b[Kwarning: \u001b[m\u001b[Kenumeration value ‘\u001b[01m\u001b[KcudaErrorMpsRpcFailure\u001b[m\u001b[K’ not handled in switch [\u001b[01;35m\u001b[K-Wswitch\u001b[m\u001b[K]\n",
            "\u001b[01m\u001b[K/content/3D_object_reconstruction/fusibile/helper_cuda.h:38:12:\u001b[m\u001b[K \u001b[01;35m\u001b[Kwarning: \u001b[m\u001b[Kenumeration value ‘\u001b[01m\u001b[KcudaErrorMpsServerNotReady\u001b[m\u001b[K’ not handled in switch [\u001b[01;35m\u001b[K-Wswitch\u001b[m\u001b[K]\n",
            "\u001b[01m\u001b[K/content/3D_object_reconstruction/fusibile/helper_cuda.h:38:12:\u001b[m\u001b[K \u001b[01;35m\u001b[Kwarning: \u001b[m\u001b[Kenumeration value ‘\u001b[01m\u001b[KcudaErrorMpsMaxClientsReached\u001b[m\u001b[K’ not handled in switch [\u001b[01;35m\u001b[K-Wswitch\u001b[m\u001b[K]\n",
            "\u001b[01m\u001b[K/content/3D_object_reconstruction/fusibile/helper_cuda.h:38:12:\u001b[m\u001b[K \u001b[01;35m\u001b[Kwarning: \u001b[m\u001b[Kenumeration value ‘\u001b[01m\u001b[KcudaErrorMpsMaxConnectionsReached\u001b[m\u001b[K’ not handled in switch [\u001b[01;35m\u001b[K-Wswitch\u001b[m\u001b[K]\n",
            "\u001b[01m\u001b[K/content/3D_object_reconstruction/fusibile/helper_cuda.h:38:12:\u001b[m\u001b[K \u001b[01;35m\u001b[Kwarning: \u001b[m\u001b[Kenumeration value ‘\u001b[01m\u001b[KcudaErrorMpsClientTerminated\u001b[m\u001b[K’ not handled in switch [\u001b[01;35m\u001b[K-Wswitch\u001b[m\u001b[K]\n",
            "\u001b[01m\u001b[K/content/3D_object_reconstruction/fusibile/helper_cuda.h:38:12:\u001b[m\u001b[K \u001b[01;35m\u001b[Kwarning: \u001b[m\u001b[Kenumeration value ‘\u001b[01m\u001b[KcudaErrorStreamCaptureUnsupported\u001b[m\u001b[K’ not handled in switch [\u001b[01;35m\u001b[K-Wswitch\u001b[m\u001b[K]\n",
            "\u001b[01m\u001b[K/content/3D_object_reconstruction/fusibile/helper_cuda.h:38:12:\u001b[m\u001b[K \u001b[01;35m\u001b[Kwarning: \u001b[m\u001b[Kenumeration value ‘\u001b[01m\u001b[KcudaErrorStreamCaptureInvalidated\u001b[m\u001b[K’ not handled in switch [\u001b[01;35m\u001b[K-Wswitch\u001b[m\u001b[K]\n",
            "\u001b[01m\u001b[K/content/3D_object_reconstruction/fusibile/helper_cuda.h:38:12:\u001b[m\u001b[K \u001b[01;35m\u001b[Kwarning: \u001b[m\u001b[Kenumeration value ‘\u001b[01m\u001b[KcudaErrorStreamCaptureMerge\u001b[m\u001b[K’ not handled in switch [\u001b[01;35m\u001b[K-Wswitch\u001b[m\u001b[K]\n",
            "\u001b[01m\u001b[K/content/3D_object_reconstruction/fusibile/helper_cuda.h:38:12:\u001b[m\u001b[K \u001b[01;35m\u001b[Kwarning: \u001b[m\u001b[Kenumeration value ‘\u001b[01m\u001b[KcudaErrorStreamCaptureUnmatched\u001b[m\u001b[K’ not handled in switch [\u001b[01;35m\u001b[K-Wswitch\u001b[m\u001b[K]\n",
            "\u001b[01m\u001b[K/content/3D_object_reconstruction/fusibile/helper_cuda.h:38:12:\u001b[m\u001b[K \u001b[01;35m\u001b[Kwarning: \u001b[m\u001b[Kenumeration value ‘\u001b[01m\u001b[KcudaErrorStreamCaptureUnjoined\u001b[m\u001b[K’ not handled in switch [\u001b[01;35m\u001b[K-Wswitch\u001b[m\u001b[K]\n",
            "\u001b[01m\u001b[K/content/3D_object_reconstruction/fusibile/helper_cuda.h:38:12:\u001b[m\u001b[K \u001b[01;35m\u001b[Kwarning: \u001b[m\u001b[Kenumeration value ‘\u001b[01m\u001b[KcudaErrorStreamCaptureIsolation\u001b[m\u001b[K’ not handled in switch [\u001b[01;35m\u001b[K-Wswitch\u001b[m\u001b[K]\n",
            "\u001b[01m\u001b[K/content/3D_object_reconstruction/fusibile/helper_cuda.h:38:12:\u001b[m\u001b[K \u001b[01;35m\u001b[Kwarning: \u001b[m\u001b[Kenumeration value ‘\u001b[01m\u001b[KcudaErrorStreamCaptureImplicit\u001b[m\u001b[K’ not handled in switch [\u001b[01;35m\u001b[K-Wswitch\u001b[m\u001b[K]\n",
            "\u001b[01m\u001b[K/content/3D_object_reconstruction/fusibile/helper_cuda.h:38:12:\u001b[m\u001b[K \u001b[01;35m\u001b[Kwarning: \u001b[m\u001b[Kenumeration value ‘\u001b[01m\u001b[KcudaErrorCapturedEvent\u001b[m\u001b[K’ not handled in switch [\u001b[01;35m\u001b[K-Wswitch\u001b[m\u001b[K]\n",
            "\u001b[01m\u001b[K/content/3D_object_reconstruction/fusibile/helper_cuda.h:38:12:\u001b[m\u001b[K \u001b[01;35m\u001b[Kwarning: \u001b[m\u001b[Kenumeration value ‘\u001b[01m\u001b[KcudaErrorStreamCaptureWrongThread\u001b[m\u001b[K’ not handled in switch [\u001b[01;35m\u001b[K-Wswitch\u001b[m\u001b[K]\n",
            "\u001b[01m\u001b[K/content/3D_object_reconstruction/fusibile/helper_cuda.h:38:12:\u001b[m\u001b[K \u001b[01;35m\u001b[Kwarning: \u001b[m\u001b[Kenumeration value ‘\u001b[01m\u001b[KcudaErrorTimeout\u001b[m\u001b[K’ not handled in switch [\u001b[01;35m\u001b[K-Wswitch\u001b[m\u001b[K]\n",
            "\u001b[01m\u001b[K/content/3D_object_reconstruction/fusibile/helper_cuda.h:38:12:\u001b[m\u001b[K \u001b[01;35m\u001b[Kwarning: \u001b[m\u001b[Kenumeration value ‘\u001b[01m\u001b[KcudaErrorGraphExecUpdateFailure\u001b[m\u001b[K’ not handled in switch [\u001b[01;35m\u001b[K-Wswitch\u001b[m\u001b[K]\n",
            "\u001b[01m\u001b[K/content/3D_object_reconstruction/fusibile/helper_cuda.h:38:12:\u001b[m\u001b[K \u001b[01;35m\u001b[Kwarning: \u001b[m\u001b[Kenumeration value ‘\u001b[01m\u001b[KcudaErrorExternalDevice\u001b[m\u001b[K’ not handled in switch [\u001b[01;35m\u001b[K-Wswitch\u001b[m\u001b[K]\n",
            "\u001b[01m\u001b[K/content/3D_object_reconstruction/fusibile/helper_cuda.h:38:12:\u001b[m\u001b[K \u001b[01;35m\u001b[Kwarning: \u001b[m\u001b[Kenumeration value ‘\u001b[01m\u001b[KcudaErrorInvalidClusterSize\u001b[m\u001b[K’ not handled in switch [\u001b[01;35m\u001b[K-Wswitch\u001b[m\u001b[K]\n",
            "\u001b[01m\u001b[K/content/3D_object_reconstruction/fusibile/helper_cuda.h:\u001b[m\u001b[K In function ‘\u001b[01m\u001b[Kconst char* _cudaGetErrorEnum(CUresult)\u001b[m\u001b[K’:\n",
            "\u001b[01m\u001b[K/content/3D_object_reconstruction/fusibile/helper_cuda.h:293:12:\u001b[m\u001b[K \u001b[01;35m\u001b[Kwarning: \u001b[m\u001b[Kenumeration value ‘\u001b[01m\u001b[KCUDA_ERROR_STUB_LIBRARY\u001b[m\u001b[K’ not handled in switch [\u001b[01;35m\u001b[K-Wswitch\u001b[m\u001b[K]\n",
            "  293 |     switch \u001b[01;35m\u001b[K(\u001b[m\u001b[Kerror)\n",
            "      |            \u001b[01;35m\u001b[K^\u001b[m\u001b[K\n",
            "\u001b[01m\u001b[K/content/3D_object_reconstruction/fusibile/helper_cuda.h:293:12:\u001b[m\u001b[K \u001b[01;35m\u001b[Kwarning: \u001b[m\u001b[Kenumeration value ‘\u001b[01m\u001b[KCUDA_ERROR_DEVICE_UNAVAILABLE\u001b[m\u001b[K’ not handled in switch [\u001b[01;35m\u001b[K-Wswitch\u001b[m\u001b[K]\n",
            "\u001b[01m\u001b[K/content/3D_object_reconstruction/fusibile/helper_cuda.h:293:12:\u001b[m\u001b[K \u001b[01;35m\u001b[Kwarning: \u001b[m\u001b[Kenumeration value ‘\u001b[01m\u001b[KCUDA_ERROR_DEVICE_NOT_LICENSED\u001b[m\u001b[K’ not handled in switch [\u001b[01;35m\u001b[K-Wswitch\u001b[m\u001b[K]\n",
            "\u001b[01m\u001b[K/content/3D_object_reconstruction/fusibile/helper_cuda.h:293:12:\u001b[m\u001b[K \u001b[01;35m\u001b[Kwarning: \u001b[m\u001b[Kenumeration value ‘\u001b[01m\u001b[KCUDA_ERROR_PEER_ACCESS_UNSUPPORTED\u001b[m\u001b[K’ not handled in switch [\u001b[01;35m\u001b[K-Wswitch\u001b[m\u001b[K]\n",
            "\u001b[01m\u001b[K/content/3D_object_reconstruction/fusibile/helper_cuda.h:293:12:\u001b[m\u001b[K \u001b[01;35m\u001b[Kwarning: \u001b[m\u001b[Kenumeration value ‘\u001b[01m\u001b[KCUDA_ERROR_INVALID_PTX\u001b[m\u001b[K’ not handled in switch [\u001b[01;35m\u001b[K-Wswitch\u001b[m\u001b[K]\n",
            "\u001b[01m\u001b[K/content/3D_object_reconstruction/fusibile/helper_cuda.h:293:12:\u001b[m\u001b[K \u001b[01;35m\u001b[Kwarning: \u001b[m\u001b[Kenumeration value ‘\u001b[01m\u001b[KCUDA_ERROR_INVALID_GRAPHICS_CONTEXT\u001b[m\u001b[K’ not handled in switch [\u001b[01;35m\u001b[K-Wswitch\u001b[m\u001b[K]\n",
            "\u001b[01m\u001b[K/content/3D_object_reconstruction/fusibile/helper_cuda.h:293:12:\u001b[m\u001b[K \u001b[01;35m\u001b[Kwarning: \u001b[m\u001b[Kenumeration value ‘\u001b[01m\u001b[KCUDA_ERROR_NVLINK_UNCORRECTABLE\u001b[m\u001b[K’ not handled in switch [\u001b[01;35m\u001b[K-Wswitch\u001b[m\u001b[K]\n",
            "\u001b[01m\u001b[K/content/3D_object_reconstruction/fusibile/helper_cuda.h:293:12:\u001b[m\u001b[K \u001b[01;35m\u001b[Kwarning: \u001b[m\u001b[Kenumeration value ‘\u001b[01m\u001b[KCUDA_ERROR_JIT_COMPILER_NOT_FOUND\u001b[m\u001b[K’ not handled in switch [\u001b[01;35m\u001b[K-Wswitch\u001b[m\u001b[K]\n",
            "\u001b[01m\u001b[K/content/3D_object_reconstruction/fusibile/helper_cuda.h:293:12:\u001b[m\u001b[K \u001b[01;35m\u001b[Kwarning: \u001b[m\u001b[Kenumeration value ‘\u001b[01m\u001b[KCUDA_ERROR_UNSUPPORTED_PTX_VERSION\u001b[m\u001b[K’ not handled in switch [\u001b[01;35m\u001b[K-Wswitch\u001b[m\u001b[K]\n",
            "\u001b[01m\u001b[K/content/3D_object_reconstruction/fusibile/helper_cuda.h:293:12:\u001b[m\u001b[K \u001b[01;35m\u001b[Kwarning: \u001b[m\u001b[Kenumeration value ‘\u001b[01m\u001b[KCUDA_ERROR_JIT_COMPILATION_DISABLED\u001b[m\u001b[K’ not handled in switch [\u001b[01;35m\u001b[K-Wswitch\u001b[m\u001b[K]\n",
            "\u001b[01m\u001b[K/content/3D_object_reconstruction/fusibile/helper_cuda.h:293:12:\u001b[m\u001b[K \u001b[01;35m\u001b[Kwarning: \u001b[m\u001b[Kenumeration value ‘\u001b[01m\u001b[KCUDA_ERROR_UNSUPPORTED_EXEC_AFFINITY\u001b[m\u001b[K’ not handled in switch [\u001b[01;35m\u001b[K-Wswitch\u001b[m\u001b[K]\n",
            "\u001b[01m\u001b[K/content/3D_object_reconstruction/fusibile/helper_cuda.h:293:12:\u001b[m\u001b[K \u001b[01;35m\u001b[Kwarning: \u001b[m\u001b[Kenumeration value ‘\u001b[01m\u001b[KCUDA_ERROR_ILLEGAL_STATE\u001b[m\u001b[K’ not handled in switch [\u001b[01;35m\u001b[K-Wswitch\u001b[m\u001b[K]\n",
            "\u001b[01m\u001b[K/content/3D_object_reconstruction/fusibile/helper_cuda.h:293:12:\u001b[m\u001b[K \u001b[01;35m\u001b[Kwarning: \u001b[m\u001b[Kenumeration value ‘\u001b[01m\u001b[KCUDA_ERROR_ILLEGAL_ADDRESS\u001b[m\u001b[K’ not handled in switch [\u001b[01;35m\u001b[K-Wswitch\u001b[m\u001b[K]\n",
            "\u001b[01m\u001b[K/content/3D_object_reconstruction/fusibile/helper_cuda.h:293:12:\u001b[m\u001b[K \u001b[01;35m\u001b[Kwarning: \u001b[m\u001b[Kenumeration value ‘\u001b[01m\u001b[KCUDA_ERROR_HARDWARE_STACK_ERROR\u001b[m\u001b[K’ not handled in switch [\u001b[01;35m\u001b[K-Wswitch\u001b[m\u001b[K]\n",
            "\u001b[01m\u001b[K/content/3D_object_reconstruction/fusibile/helper_cuda.h:293:12:\u001b[m\u001b[K \u001b[01;35m\u001b[Kwarning: \u001b[m\u001b[Kenumeration value ‘\u001b[01m\u001b[KCUDA_ERROR_ILLEGAL_INSTRUCTION\u001b[m\u001b[K’ not handled in switch [\u001b[01;35m\u001b[K-Wswitch\u001b[m\u001b[K]\n",
            "\u001b[01m\u001b[K/content/3D_object_reconstruction/fusibile/helper_cuda.h:293:12:\u001b[m\u001b[K \u001b[01;35m\u001b[Kwarning: \u001b[m\u001b[Kenumeration value ‘\u001b[01m\u001b[KCUDA_ERROR_MISALIGNED_ADDRESS\u001b[m\u001b[K’ not handled in switch [\u001b[01;35m\u001b[K-Wswitch\u001b[m\u001b[K]\n",
            "\u001b[01m\u001b[K/content/3D_object_reconstruction/fusibile/helper_cuda.h:293:12:\u001b[m\u001b[K \u001b[01;35m\u001b[Kwarning: \u001b[m\u001b[Kenumeration value ‘\u001b[01m\u001b[KCUDA_ERROR_INVALID_ADDRESS_SPACE\u001b[m\u001b[K’ not handled in switch [\u001b[01;35m\u001b[K-Wswitch\u001b[m\u001b[K]\n",
            "\u001b[01m\u001b[K/content/3D_object_reconstruction/fusibile/helper_cuda.h:293:12:\u001b[m\u001b[K \u001b[01;35m\u001b[Kwarning: \u001b[m\u001b[Kenumeration value ‘\u001b[01m\u001b[KCUDA_ERROR_INVALID_PC\u001b[m\u001b[K’ not handled in switch [\u001b[01;35m\u001b[K-Wswitch\u001b[m\u001b[K]\n",
            "\u001b[01m\u001b[K/content/3D_object_reconstruction/fusibile/helper_cuda.h:293:12:\u001b[m\u001b[K \u001b[01;35m\u001b[Kwarning: \u001b[m\u001b[Kenumeration value ‘\u001b[01m\u001b[KCUDA_ERROR_COOPERATIVE_LAUNCH_TOO_LARGE\u001b[m\u001b[K’ not handled in switch [\u001b[01;35m\u001b[K-Wswitch\u001b[m\u001b[K]\n",
            "\u001b[01m\u001b[K/content/3D_object_reconstruction/fusibile/helper_cuda.h:293:12:\u001b[m\u001b[K \u001b[01;35m\u001b[Kwarning: \u001b[m\u001b[Kenumeration value ‘\u001b[01m\u001b[KCUDA_ERROR_NOT_PERMITTED\u001b[m\u001b[K’ not handled in switch [\u001b[01;35m\u001b[K-Wswitch\u001b[m\u001b[K]\n",
            "\u001b[01m\u001b[K/content/3D_object_reconstruction/fusibile/helper_cuda.h:293:12:\u001b[m\u001b[K \u001b[01;35m\u001b[Kwarning: \u001b[m\u001b[Kenumeration value ‘\u001b[01m\u001b[KCUDA_ERROR_NOT_SUPPORTED\u001b[m\u001b[K’ not handled in switch [\u001b[01;35m\u001b[K-Wswitch\u001b[m\u001b[K]\n",
            "\u001b[01m\u001b[K/content/3D_object_reconstruction/fusibile/helper_cuda.h:293:12:\u001b[m\u001b[K \u001b[01;35m\u001b[Kwarning: \u001b[m\u001b[Kenumeration value ‘\u001b[01m\u001b[KCUDA_ERROR_SYSTEM_NOT_READY\u001b[m\u001b[K’ not handled in switch [\u001b[01;35m\u001b[K-Wswitch\u001b[m\u001b[K]\n",
            "\u001b[01m\u001b[K/content/3D_object_reconstruction/fusibile/helper_cuda.h:293:12:\u001b[m\u001b[K \u001b[01;35m\u001b[Kwarning: \u001b[m\u001b[Kenumeration value ‘\u001b[01m\u001b[KCUDA_ERROR_SYSTEM_DRIVER_MISMATCH\u001b[m\u001b[K’ not handled in switch [\u001b[01;35m\u001b[K-Wswitch\u001b[m\u001b[K]\n",
            "\u001b[01m\u001b[K/content/3D_object_reconstruction/fusibile/helper_cuda.h:293:12:\u001b[m\u001b[K \u001b[01;35m\u001b[Kwarning: \u001b[m\u001b[Kenumeration value ‘\u001b[01m\u001b[KCUDA_ERROR_COMPAT_NOT_SUPPORTED_ON_DEVICE\u001b[m\u001b[K’ not handled in switch [\u001b[01;35m\u001b[K-Wswitch\u001b[m\u001b[K]\n",
            "\u001b[01m\u001b[K/content/3D_object_reconstruction/fusibile/helper_cuda.h:293:12:\u001b[m\u001b[K \u001b[01;35m\u001b[Kwarning: \u001b[m\u001b[Kenumeration value ‘\u001b[01m\u001b[KCUDA_ERROR_MPS_CONNECTION_FAILED\u001b[m\u001b[K’ not handled in switch [\u001b[01;35m\u001b[K-Wswitch\u001b[m\u001b[K]\n",
            "\u001b[01m\u001b[K/content/3D_object_reconstruction/fusibile/helper_cuda.h:293:12:\u001b[m\u001b[K \u001b[01;35m\u001b[Kwarning: \u001b[m\u001b[Kenumeration value ‘\u001b[01m\u001b[KCUDA_ERROR_MPS_RPC_FAILURE\u001b[m\u001b[K’ not handled in switch [\u001b[01;35m\u001b[K-Wswitch\u001b[m\u001b[K]\n",
            "\u001b[01m\u001b[K/content/3D_object_reconstruction/fusibile/helper_cuda.h:293:12:\u001b[m\u001b[K \u001b[01;35m\u001b[Kwarning: \u001b[m\u001b[Kenumeration value ‘\u001b[01m\u001b[KCUDA_ERROR_MPS_SERVER_NOT_READY\u001b[m\u001b[K’ not handled in switch [\u001b[01;35m\u001b[K-Wswitch\u001b[m\u001b[K]\n",
            "\u001b[01m\u001b[K/content/3D_object_reconstruction/fusibile/helper_cuda.h:293:12:\u001b[m\u001b[K \u001b[01;35m\u001b[Kwarning: \u001b[m\u001b[Kenumeration value ‘\u001b[01m\u001b[KCUDA_ERROR_MPS_MAX_CLIENTS_REACHED\u001b[m\u001b[K’ not handled in switch [\u001b[01;35m\u001b[K-Wswitch\u001b[m\u001b[K]\n",
            "\u001b[01m\u001b[K/content/3D_object_reconstruction/fusibile/helper_cuda.h:293:12:\u001b[m\u001b[K \u001b[01;35m\u001b[Kwarning: \u001b[m\u001b[Kenumeration value ‘\u001b[01m\u001b[KCUDA_ERROR_MPS_MAX_CONNECTIONS_REACHED\u001b[m\u001b[K’ not handled in switch [\u001b[01;35m\u001b[K-Wswitch\u001b[m\u001b[K]\n",
            "\u001b[01m\u001b[K/content/3D_object_reconstruction/fusibile/helper_cuda.h:293:12:\u001b[m\u001b[K \u001b[01;35m\u001b[Kwarning: \u001b[m\u001b[Kenumeration value ‘\u001b[01m\u001b[KCUDA_ERROR_MPS_CLIENT_TERMINATED\u001b[m\u001b[K’ not handled in switch [\u001b[01;35m\u001b[K-Wswitch\u001b[m\u001b[K]\n",
            "\u001b[01m\u001b[K/content/3D_object_reconstruction/fusibile/helper_cuda.h:293:12:\u001b[m\u001b[K \u001b[01;35m\u001b[Kwarning: \u001b[m\u001b[Kenumeration value ‘\u001b[01m\u001b[KCUDA_ERROR_STREAM_CAPTURE_UNSUPPORTED\u001b[m\u001b[K’ not handled in switch [\u001b[01;35m\u001b[K-Wswitch\u001b[m\u001b[K]\n",
            "\u001b[01m\u001b[K/content/3D_object_reconstruction/fusibile/helper_cuda.h:293:12:\u001b[m\u001b[K \u001b[01;35m\u001b[Kwarning: \u001b[m\u001b[Kenumeration value ‘\u001b[01m\u001b[KCUDA_ERROR_STREAM_CAPTURE_INVALIDATED\u001b[m\u001b[K’ not handled in switch [\u001b[01;35m\u001b[K-Wswitch\u001b[m\u001b[K]\n",
            "\u001b[01m\u001b[K/content/3D_object_reconstruction/fusibile/helper_cuda.h:293:12:\u001b[m\u001b[K \u001b[01;35m\u001b[Kwarning: \u001b[m\u001b[Kenumeration value ‘\u001b[01m\u001b[KCUDA_ERROR_STREAM_CAPTURE_MERGE\u001b[m\u001b[K’ not handled in switch [\u001b[01;35m\u001b[K-Wswitch\u001b[m\u001b[K]\n",
            "\u001b[01m\u001b[K/content/3D_object_reconstruction/fusibile/helper_cuda.h:293:12:\u001b[m\u001b[K \u001b[01;35m\u001b[Kwarning: \u001b[m\u001b[Kenumeration value ‘\u001b[01m\u001b[KCUDA_ERROR_STREAM_CAPTURE_UNMATCHED\u001b[m\u001b[K’ not handled in switch [\u001b[01;35m\u001b[K-Wswitch\u001b[m\u001b[K]\n",
            "\u001b[01m\u001b[K/content/3D_object_reconstruction/fusibile/helper_cuda.h:293:12:\u001b[m\u001b[K \u001b[01;35m\u001b[Kwarning: \u001b[m\u001b[Kenumeration value ‘\u001b[01m\u001b[KCUDA_ERROR_STREAM_CAPTURE_UNJOINED\u001b[m\u001b[K’ not handled in switch [\u001b[01;35m\u001b[K-Wswitch\u001b[m\u001b[K]\n",
            "\u001b[01m\u001b[K/content/3D_object_reconstruction/fusibile/helper_cuda.h:293:12:\u001b[m\u001b[K \u001b[01;35m\u001b[Kwarning: \u001b[m\u001b[Kenumeration value ‘\u001b[01m\u001b[KCUDA_ERROR_STREAM_CAPTURE_ISOLATION\u001b[m\u001b[K’ not handled in switch [\u001b[01;35m\u001b[K-Wswitch\u001b[m\u001b[K]\n",
            "\u001b[01m\u001b[K/content/3D_object_reconstruction/fusibile/helper_cuda.h:293:12:\u001b[m\u001b[K \u001b[01;35m\u001b[Kwarning: \u001b[m\u001b[Kenumeration value ‘\u001b[01m\u001b[KCUDA_ERROR_STREAM_CAPTURE_IMPLICIT\u001b[m\u001b[K’ not handled in switch [\u001b[01;35m\u001b[K-Wswitch\u001b[m\u001b[K]\n",
            "\u001b[01m\u001b[K/content/3D_object_reconstruction/fusibile/helper_cuda.h:293:12:\u001b[m\u001b[K \u001b[01;35m\u001b[Kwarning: \u001b[m\u001b[Kenumeration value ‘\u001b[01m\u001b[KCUDA_ERROR_CAPTURED_EVENT\u001b[m\u001b[K’ not handled in switch [\u001b[01;35m\u001b[K-Wswitch\u001b[m\u001b[K]\n",
            "\u001b[01m\u001b[K/content/3D_object_reconstruction/fusibile/helper_cuda.h:293:12:\u001b[m\u001b[K \u001b[01;35m\u001b[Kwarning: \u001b[m\u001b[Kenumeration value ‘\u001b[01m\u001b[KCUDA_ERROR_STREAM_CAPTURE_WRONG_THREAD\u001b[m\u001b[K’ not handled in switch [\u001b[01;35m\u001b[K-Wswitch\u001b[m\u001b[K]\n",
            "\u001b[01m\u001b[K/content/3D_object_reconstruction/fusibile/helper_cuda.h:293:12:\u001b[m\u001b[K \u001b[01;35m\u001b[Kwarning: \u001b[m\u001b[Kenumeration value ‘\u001b[01m\u001b[KCUDA_ERROR_TIMEOUT\u001b[m\u001b[K’ not handled in switch [\u001b[01;35m\u001b[K-Wswitch\u001b[m\u001b[K]\n",
            "\u001b[01m\u001b[K/content/3D_object_reconstruction/fusibile/helper_cuda.h:293:12:\u001b[m\u001b[K \u001b[01;35m\u001b[Kwarning: \u001b[m\u001b[Kenumeration value ‘\u001b[01m\u001b[KCUDA_ERROR_GRAPH_EXEC_UPDATE_FAILURE\u001b[m\u001b[K’ not handled in switch [\u001b[01;35m\u001b[K-Wswitch\u001b[m\u001b[K]\n",
            "\u001b[01m\u001b[K/content/3D_object_reconstruction/fusibile/helper_cuda.h:293:12:\u001b[m\u001b[K \u001b[01;35m\u001b[Kwarning: \u001b[m\u001b[Kenumeration value ‘\u001b[01m\u001b[KCUDA_ERROR_EXTERNAL_DEVICE\u001b[m\u001b[K’ not handled in switch [\u001b[01;35m\u001b[K-Wswitch\u001b[m\u001b[K]\n",
            "\u001b[01m\u001b[K/content/3D_object_reconstruction/fusibile/helper_cuda.h:293:12:\u001b[m\u001b[K \u001b[01;35m\u001b[Kwarning: \u001b[m\u001b[Kenumeration value ‘\u001b[01m\u001b[KCUDA_ERROR_INVALID_CLUSTER_SIZE\u001b[m\u001b[K’ not handled in switch [\u001b[01;35m\u001b[K-Wswitch\u001b[m\u001b[K]\n",
            "\u001b[01m\u001b[K/content/3D_object_reconstruction/fusibile/main.cpp:\u001b[m\u001b[K In function ‘\u001b[01m\u001b[Kint runFusibile(int, char**, AlgorithmParameters&)\u001b[m\u001b[K’:\n",
            "\u001b[01m\u001b[K/content/3D_object_reconstruction/fusibile/main.cpp:841:27:\u001b[m\u001b[K \u001b[01;35m\u001b[Kwarning: \u001b[m\u001b[K‘\u001b[01m\u001b[K/final3d_model.ply\u001b[m\u001b[K’ directive writing 18 bytes into a region of size between 1 and 256 [\u001b[01;35m\u001b[K-Wformat-overflow=\u001b[m\u001b[K]\n",
            "  841 |     sprintf ( plyFile, \"%s\u001b[01;35m\u001b[K/final3d_model.ply\u001b[m\u001b[K\", output_folder);\n",
            "      |                           \u001b[01;35m\u001b[K^~~~~~~~~~~~~~~~~~\u001b[m\u001b[K\n",
            "\u001b[01m\u001b[K/content/3D_object_reconstruction/fusibile/main.cpp:841:13:\u001b[m\u001b[K \u001b[01;36m\u001b[Knote: \u001b[m\u001b[K‘\u001b[01m\u001b[Ksprintf\u001b[m\u001b[K’ output between 19 and 274 bytes into a destination of size 256\n",
            "  841 |     \u001b[01;36m\u001b[Ksprintf ( plyFile, \"%s/final3d_model.ply\", output_folder)\u001b[m\u001b[K;\n",
            "      |     \u001b[01;36m\u001b[K~~~~~~~~^~~~~~~~~~~~~~~~~~~~~~~~~~~~~~~~~~~~~~~~~~~~~~~~~\u001b[m\u001b[K\n",
            "[100%] \u001b[32m\u001b[1mLinking CXX executable fusibile\u001b[0m\n",
            "[100%] Built target fusibile\n",
            "/content/3D_object_reconstruction\n"
          ]
        }
      ]
    },
    {
      "cell_type": "code",
      "source": [
        "import os\n",
        "import shutil\n",
        "\n",
        "folder_name = \"/content/3D_object_reconstruction/MVSFormer/dtu\"\n",
        "if not os.path.exists(folder_name):\n",
        "    os.makedirs(folder_name)\n",
        "else:\n",
        "  shutil.rmtree(folder_name)\n",
        "  os.makedirs(folder_name)\n",
        "\n",
        "folder_name = \"/content/3D_object_reconstruction/MVSFormer/dtu/scan1\"\n",
        "if not os.path.exists(folder_name):\n",
        "    os.makedirs(folder_name)\n",
        "else:\n",
        "  shutil.rmtree(folder_name)\n",
        "  os.makedirs(folder_name)\n",
        "\n"
      ],
      "metadata": {
        "id": "-V8Zp-yvnBqS"
      },
      "execution_count": 24,
      "outputs": []
    },
    {
      "cell_type": "code",
      "source": [
        "!cp -r /content/3D_object_reconstruction/dense/cams /content/3D_object_reconstruction/MVSFormer/dtu/scan1\n",
        "!cp -r /content/3D_object_reconstruction/dense/images /content/3D_object_reconstruction/MVSFormer/dtu/scan1\n",
        "!cp /content/3D_object_reconstruction/dense/pair.txt /content/3D_object_reconstruction/MVSFormer/dtu/scan1"
      ],
      "metadata": {
        "id": "ox0bp9JAna5V"
      },
      "execution_count": 25,
      "outputs": []
    },
    {
      "cell_type": "code",
      "source": [
        "if os.path.exists(\"/content/3D_object_reconstruction/MVSFormer/output/scan1\"):\n",
        "  shutil.rmtree('/content/3D_object_reconstruction/MVSFormer/output/scan1')\n",
        "\n",
        "!CUDA_VISIBLE_DEVICES=0 python /content/3D_object_reconstruction/MVSFormer/test.py --batch_size 1 \\\n",
        "                                       --dataset test \\\n",
        "                                       --testpath /content/3D_object_reconstruction/MVSFormer/dtu \\\n",
        "                                       --testlist /content/3D_object_reconstruction/MVSFormer/lists/dtu/test.txt \\\n",
        "                                       --resume /content/3D_object_reconstruction/MVSFormer/pretrained_weights/mvs_best.pth \\\n",
        "                                       --outdir /content/3D_object_reconstruction/MVSFormer/output \\\n",
        "                                       --fusibile_exe_path ./fusibile/fusibile \\\n",
        "                                       --interval_scale 1.06 --num_view 5 \\\n",
        "                                       --numdepth 192 --max_h 1152 --max_w 1536 --filter_method gipuma \\\n",
        "                                       --disp_threshold 0.4 --num_consistent 2 --prob_threshold 0.5,0.5,0.5,0.5 \\\n",
        "                                       --combine_conf \\\n",
        "                                       --tmps 5.0,5.0,5.0,1.0"
      ],
      "metadata": {
        "colab": {
          "base_uri": "https://localhost:8080/"
        },
        "id": "KfFCeByNna3J",
        "outputId": "b5d8a18b-8d27-4c9c-cca0-1a8fda6f3b79"
      },
      "execution_count": 27,
      "outputs": [
        {
          "output_type": "stream",
          "name": "stdout",
          "text": [
            "argv: ['--batch_size', '1', '--dataset', 'test', '--testpath', '/content/3D_object_reconstruction/MVSFormer/dtu', '--testlist', '/content/3D_object_reconstruction/MVSFormer/lists/dtu/test.txt', '--resume', '/content/3D_object_reconstruction/MVSFormer/pretrained_weights/mvs_best.pth', '--outdir', '/content/3D_object_reconstruction/MVSFormer/output', '--fusibile_exe_path', './fusibile/fusibile', '--interval_scale', '1.06', '--num_view', '5', '--numdepth', '192', '--max_h', '1152', '--max_w', '1536', '--filter_method', 'gipuma', '--disp_threshold', '0.1', '--num_consistent', '2', '--prob_threshold', '0.5,0.5,0.5,0.5', '--combine_conf', '--tmps', '5.0,5.0,5.0,1.0']\n",
            "################################  args  ################################\n",
            "model     \tmvsnet                        \t<class 'str'>       \n",
            "device    \tNone                          \t<class 'NoneType'>  \n",
            "config    \tNone                          \t<class 'NoneType'>  \n",
            "dataset   \ttest                          \t<class 'str'>       \n",
            "testpath  \t/content/3D_object_reconstruction/MVSFormer/dtu\t<class 'str'>       \n",
            "testpath_single_scene\tNone                          \t<class 'NoneType'>  \n",
            "testlist  \t/content/3D_object_reconstruction/MVSFormer/lists/dtu/test.txt\t<class 'str'>       \n",
            "exp_name  \tNone                          \t<class 'NoneType'>  \n",
            "batch_size\t1                             \t<class 'int'>       \n",
            "numdepth  \t192                           \t<class 'int'>       \n",
            "resume    \t/content/3D_object_reconstruction/MVSFormer/pretrained_weights/mvs_best.pth\t<class 'str'>       \n",
            "outdir    \t/content/3D_object_reconstruction/MVSFormer/output\t<class 'str'>       \n",
            "display   \tFalse                         \t<class 'bool'>      \n",
            "share_cr  \tFalse                         \t<class 'bool'>      \n",
            "ndepths   \tNone                          \t<class 'NoneType'>  \n",
            "depth_interals_ratio\tNone                          \t<class 'NoneType'>  \n",
            "cr_base_chs\t8,8,8                         \t<class 'str'>       \n",
            "grad_method\tdetach                        \t<class 'str'>       \n",
            "no_refinement\tFalse                         \t<class 'bool'>      \n",
            "full_res  \tFalse                         \t<class 'bool'>      \n",
            "interval_scale\t1.06                          \t<class 'float'>     \n",
            "num_view  \t5                             \t<class 'int'>       \n",
            "max_h     \t1152                          \t<class 'int'>       \n",
            "max_w     \t1536                          \t<class 'int'>       \n",
            "fix_res   \tFalse                         \t<class 'bool'>      \n",
            "depth_scale\t1.0                           \t<class 'float'>     \n",
            "temperature\t0.01                          \t<class 'float'>     \n",
            "num_worker\t4                             \t<class 'int'>       \n",
            "save_freq \t20                            \t<class 'int'>       \n",
            "filter_method\tgipuma                        \t<class 'str'>       \n",
            "conf      \t0.1,0.1,0.1,0.1               \t<class 'str'>       \n",
            "thres_view\t3                             \t<class 'int'>       \n",
            "thres_disp\t1.0                           \t<class 'float'>     \n",
            "downsample\tNone                          \t<class 'NoneType'>  \n",
            "dist_base \t4.0                           \t<class 'float'>     \n",
            "rel_diff_base\t1300.0                        \t<class 'float'>     \n",
            "fusibile_exe_path\t./fusibile/fusibile           \t<class 'str'>       \n",
            "prob_threshold\t0.5,0.5,0.5,0.5               \t<class 'str'>       \n",
            "disp_threshold\t0.1                           \t<class 'float'>     \n",
            "num_consistent\t2.0                           \t<class 'float'>     \n",
            "use_short_range\tFalse                         \t<class 'bool'>      \n",
            "combine_conf\tTrue                          \t<class 'bool'>      \n",
            "tmp       \t1.0                           \t<class 'float'>     \n",
            "tmps      \t5.0,5.0,5.0,1.0               \t<class 'str'>       \n",
            "save_all_confs\tFalse                         \t<class 'bool'>      \n",
            "########################################################################\n",
            "***********Interval_Scale**********\n",
            " 1.06\n",
            "dataset test metas: 49 interval_scale:{'scan1': 1.06}\n",
            "/usr/local/lib/python3.8/dist-packages/torch/utils/data/dataloader.py:478: UserWarning: This DataLoader will create 4 worker processes in total. Our suggested max number of worker in current system is 2, which is smaller than what this DataLoader is going to create. Please be aware that excessive worker creation might get DataLoader running slow or even freeze, lower the worker number to avoid potential slowness/freeze if necessary.\n",
            "  warnings.warn(_create_warning_msg(\n",
            "drop_path_rate: ---  0.2\n",
            "!!!No weight in ./pretrained_weights/alt_gvt_small.pth testing should neglect this.\n",
            "Loading checkpoint: /content/3D_object_reconstruction/MVSFormer/pretrained_weights/mvs_best.pth ...\n",
            "/usr/local/lib/python3.8/dist-packages/torch/nn/functional.py:3487: UserWarning: nn.functional.upsample is deprecated. Use nn.functional.interpolate instead.\n",
            "  warnings.warn(\"nn.functional.upsample is deprecated. Use nn.functional.interpolate instead.\")\n",
            "Iter 0/49, Time:2.3050570487976074 Res:(1152, 1536)\n",
            "Iter 1/49, Time:2.2804977893829346 Res:(1152, 1536)\n",
            "Iter 2/49, Time:1.6657671928405762 Res:(1152, 1536)\n",
            "Iter 3/49, Time:1.4279406070709229 Res:(1152, 1536)\n",
            "Iter 4/49, Time:1.5340678691864014 Res:(1152, 1536)\n",
            "Iter 5/49, Time:1.5481390953063965 Res:(1152, 1536)\n",
            "Iter 6/49, Time:1.5442259311676025 Res:(1152, 1536)\n",
            "Iter 7/49, Time:1.694528341293335 Res:(1152, 1536)\n",
            "Iter 8/49, Time:1.6156220436096191 Res:(1152, 1536)\n",
            "Iter 9/49, Time:1.9066824913024902 Res:(1152, 1536)\n",
            "Iter 10/49, Time:1.7488157749176025 Res:(1152, 1536)\n",
            "Iter 11/49, Time:1.4489357471466064 Res:(1152, 1536)\n",
            "Iter 12/49, Time:1.4231672286987305 Res:(1152, 1536)\n",
            "Iter 13/49, Time:1.3879685401916504 Res:(1152, 1536)\n",
            "Iter 14/49, Time:1.5238251686096191 Res:(1152, 1536)\n",
            "Iter 15/49, Time:1.3709897994995117 Res:(1152, 1536)\n",
            "Iter 16/49, Time:1.493335247039795 Res:(1152, 1536)\n",
            "Iter 17/49, Time:1.832859754562378 Res:(1152, 1536)\n",
            "Iter 18/49, Time:2.0107126235961914 Res:(1152, 1536)\n",
            "Iter 19/49, Time:1.6155736446380615 Res:(1152, 1536)\n",
            "Iter 20/49, Time:1.4112732410430908 Res:(1152, 1536)\n",
            "Iter 21/49, Time:1.3959803581237793 Res:(1152, 1536)\n",
            "Iter 22/49, Time:1.4163579940795898 Res:(1152, 1536)\n",
            "Iter 23/49, Time:1.416064739227295 Res:(1152, 1536)\n",
            "Iter 24/49, Time:1.4558486938476562 Res:(1152, 1536)\n",
            "Iter 25/49, Time:1.6319880485534668 Res:(1152, 1536)\n",
            "Iter 26/49, Time:1.8308699131011963 Res:(1152, 1536)\n",
            "Iter 27/49, Time:1.7663323879241943 Res:(1152, 1536)\n",
            "Iter 28/49, Time:1.5098483562469482 Res:(1152, 1536)\n",
            "Iter 29/49, Time:1.4211280345916748 Res:(1152, 1536)\n",
            "Iter 30/49, Time:1.5085721015930176 Res:(1152, 1536)\n",
            "Iter 31/49, Time:1.386953353881836 Res:(1152, 1536)\n",
            "Iter 32/49, Time:1.509979248046875 Res:(1152, 1536)\n",
            "Iter 33/49, Time:1.498173475265503 Res:(1152, 1536)\n",
            "Iter 34/49, Time:1.6837141513824463 Res:(1152, 1536)\n",
            "Iter 35/49, Time:1.654797077178955 Res:(1152, 1536)\n",
            "Iter 36/49, Time:1.4934163093566895 Res:(1152, 1536)\n",
            "Iter 37/49, Time:1.5199649333953857 Res:(1152, 1536)\n",
            "Iter 38/49, Time:1.4236955642700195 Res:(1152, 1536)\n",
            "Iter 39/49, Time:1.4161744117736816 Res:(1152, 1536)\n",
            "Iter 40/49, Time:1.4426374435424805 Res:(1152, 1536)\n",
            "Iter 41/49, Time:1.4415853023529053 Res:(1152, 1536)\n",
            "Iter 42/49, Time:1.3695077896118164 Res:(1152, 1536)\n",
            "Iter 43/49, Time:1.3707528114318848 Res:(1152, 1536)\n",
            "Iter 44/49, Time:1.3679633140563965 Res:(1152, 1536)\n",
            "Iter 45/49, Time:1.3740293979644775 Res:(1152, 1536)\n",
            "Iter 46/49, Time:1.3730096817016602 Res:(1152, 1536)\n",
            "Iter 47/49, Time:1.3859343528747559 Res:(1152, 1536)\n",
            "Iter 48/49, Time:1.3874008655548096 Res:(1152, 1536)\n",
            "average time:  1.5559727610373983\n",
            "filter depth map with probability map\n",
            "filtering: 100% 49/49 [00:00<00:00, 61.48it/s]\n",
            "Convert mvsnet output to gipuma input\n",
            "convert depth maps: 100% 49/49 [00:18<00:00,  2.62it/s]\n",
            "Run depth map fusion & filter\n",
            "./fusibile/fusibile -input_folder /content/3D_object_reconstruction/MVSFormer/output/scan1/points_mvsnet/ -p_folder /content/3D_object_reconstruction/MVSFormer/output/scan1/points_mvsnet/cams/ -images_folder /content/3D_object_reconstruction/MVSFormer/output/scan1/points_mvsnet/images/ --depth_min=0.001 --depth_max=100000 --normal_thresh=360 --disp_thresh=0.1 --num_consistent=2.0 -color_processing\n",
            "Command-line parameter error: unknown option -input_folder\n",
            "input folder is /content/3D_object_reconstruction/MVSFormer/output/scan1/points_mvsnet/\n",
            "image folder is /content/3D_object_reconstruction/MVSFormer/output/scan1/points_mvsnet/images/\n",
            "p folder is /content/3D_object_reconstruction/MVSFormer/output/scan1/points_mvsnet/cams/\n",
            "pmvs folder is \n",
            "numImages is 49\n",
            "img_filenames is 49\n",
            "Device memory used: 1846.542358MB\n",
            "Device memory used: 1846.542358MB\n",
            "P folder is /content/3D_object_reconstruction/MVSFormer/output/scan1/points_mvsnet/cams/\n",
            "numCameras is 49\n",
            "Camera size is 49\n",
            "Accepted intersection angle of central rays is 10.000000 to 30.000000 degrees\n",
            "Selected views: 49\n",
            "0, 1, 2, 3, 4, 5, 6, 7, 8, 9, 10, 11, 12, 13, 14, 15, 16, 17, 18, 19, 20, 21, 22, 23, 24, 25, 26, 27, 28, 29, 30, 31, 32, 33, 34, 35, 36, 37, 38, 39, 40, 41, 42, 43, 44, 45, 46, 47, 48, \n",
            "Reading normals and depth from disk\n",
            "Size consideredIds is 49\n",
            "Reading normal 0\n",
            "Reading disp 0\n",
            "Reading normal 1\n",
            "Reading disp 1\n",
            "Reading normal 2\n",
            "Reading disp 2\n",
            "Reading normal 3\n",
            "Reading disp 3\n",
            "Reading normal 4\n",
            "Reading disp 4\n",
            "Reading normal 5\n",
            "Reading disp 5\n",
            "Reading normal 6\n",
            "Reading disp 6\n",
            "Reading normal 7\n",
            "Reading disp 7\n",
            "Reading normal 8\n",
            "Reading disp 8\n",
            "Reading normal 9\n",
            "Reading disp 9\n",
            "Reading normal 10\n",
            "Reading disp 10\n",
            "Reading normal 11\n",
            "Reading disp 11\n",
            "Reading normal 12\n",
            "Reading disp 12\n",
            "Reading normal 13\n",
            "Reading disp 13\n",
            "Reading normal 14\n",
            "Reading disp 14\n",
            "Reading normal 15\n",
            "Reading disp 15\n",
            "Reading normal 16\n",
            "Reading disp 16\n",
            "Reading normal 17\n",
            "Reading disp 17\n",
            "Reading normal 18\n",
            "Reading disp 18\n",
            "Reading normal 19\n",
            "Reading disp 19\n",
            "Reading normal 20\n",
            "Reading disp 20\n",
            "Reading normal 21\n",
            "Reading disp 21\n",
            "Reading normal 22\n",
            "Reading disp 22\n",
            "Reading normal 23\n",
            "Reading disp 23\n",
            "Reading normal 24\n",
            "Reading disp 24\n",
            "Reading normal 25\n",
            "Reading disp 25\n",
            "Reading normal 26\n",
            "Reading disp 26\n",
            "Reading normal 27\n",
            "Reading disp 27\n",
            "Reading normal 28\n",
            "Reading disp 28\n",
            "Reading normal 29\n",
            "Reading disp 29\n",
            "Reading normal 30\n",
            "Reading disp 30\n",
            "Reading normal 31\n",
            "Reading disp 31\n",
            "Reading normal 32\n",
            "Reading disp 32\n",
            "Reading normal 33\n",
            "Reading disp 33\n",
            "Reading normal 34\n",
            "Reading disp 34\n",
            "Reading normal 35\n",
            "Reading disp 35\n",
            "Reading normal 36\n",
            "Reading disp 36\n",
            "Reading normal 37\n",
            "Reading disp 37\n",
            "Reading normal 38\n",
            "Reading disp 38\n",
            "Reading normal 39\n",
            "Reading disp 39\n",
            "Reading normal 40\n",
            "Reading disp 40\n",
            "Reading normal 41\n",
            "Reading disp 41\n",
            "Reading normal 42\n",
            "Reading disp 42\n",
            "Reading normal 43\n",
            "Reading disp 43\n",
            "Reading normal 44\n",
            "Reading disp 44\n",
            "Reading normal 45\n",
            "Reading disp 45\n",
            "Reading normal 46\n",
            "Reading disp 46\n",
            "Reading normal 47\n",
            "Reading disp 47\n",
            "Reading normal 48\n",
            "Reading disp 48\n",
            "Resizing globalstate to 49\n",
            "Run cuda\n",
            "Run gipuma\n",
            "Grid size initrand is grid: 48-36 block: 32-32\n",
            "Device memory used: 4723.834961MB\n",
            "Number of iterations is 8\n",
            "Blocksize is 15x15\n",
            "Disparity threshold is \t0.100000\n",
            "Normal threshold is \t6.283185\n",
            "Number of consistent points is \t2\n",
            "Cam scale is \t1.000000\n",
            "Fusing points\n",
            "Processing camera 0\n",
            "Found 0.03 million points\n",
            "Processing camera 1\n",
            "Found 0.09 million points\n",
            "Processing camera 2\n",
            "Found 0.15 million points\n",
            "Processing camera 3\n",
            "Found 0.17 million points\n",
            "Processing camera 4\n",
            "Found 0.17 million points\n",
            "Processing camera 5\n",
            "Found 0.21 million points\n",
            "Processing camera 6\n",
            "Found 0.28 million points\n",
            "Processing camera 7\n",
            "Found 0.36 million points\n",
            "Processing camera 8\n",
            "Found 0.44 million points\n",
            "Processing camera 9\n",
            "Found 0.55 million points\n",
            "Processing camera 10\n",
            "Found 0.65 million points\n",
            "Processing camera 11\n",
            "Found 0.80 million points\n",
            "Processing camera 12\n",
            "Found 0.92 million points\n",
            "Processing camera 13\n",
            "Found 0.98 million points\n",
            "Processing camera 14\n",
            "Found 1.01 million points\n",
            "Processing camera 15\n",
            "Found 1.04 million points\n",
            "Processing camera 16\n",
            "Found 1.04 million points\n",
            "Processing camera 17\n",
            "Found 1.04 million points\n",
            "Processing camera 18\n",
            "Found 1.04 million points\n",
            "Processing camera 19\n",
            "Found 1.04 million points\n",
            "Processing camera 20\n",
            "Found 1.04 million points\n",
            "Processing camera 21\n",
            "Found 1.04 million points\n",
            "Processing camera 22\n",
            "Found 1.04 million points\n",
            "Processing camera 23\n",
            "Found 1.04 million points\n",
            "Processing camera 24\n",
            "Found 1.04 million points\n",
            "Processing camera 25\n",
            "Found 1.04 million points\n",
            "Processing camera 26\n",
            "Found 1.04 million points\n",
            "Processing camera 27\n",
            "Found 1.04 million points\n",
            "Processing camera 28\n",
            "Found 1.04 million points\n",
            "Processing camera 29\n",
            "Found 1.04 million points\n",
            "Processing camera 30\n",
            "Found 1.04 million points\n",
            "Processing camera 31\n",
            "Found 1.04 million points\n",
            "Processing camera 32\n",
            "Found 1.04 million points\n",
            "Processing camera 33\n",
            "Found 1.04 million points\n",
            "Processing camera 34\n",
            "Found 1.04 million points\n",
            "Processing camera 35\n",
            "Found 1.04 million points\n",
            "Processing camera 36\n",
            "Found 1.04 million points\n",
            "Processing camera 37\n",
            "Found 1.04 million points\n",
            "Processing camera 38\n",
            "Found 1.05 million points\n",
            "Processing camera 39\n",
            "Found 1.05 million points\n",
            "Processing camera 40\n",
            "Found 1.05 million points\n",
            "Processing camera 41\n",
            "Found 1.05 million points\n",
            "Processing camera 42\n",
            "Found 1.05 million points\n",
            "Processing camera 43\n",
            "Found 1.05 million points\n",
            "Processing camera 44\n",
            "Found 1.05 million points\n",
            "Processing camera 45\n",
            "Found 1.05 million points\n",
            "Processing camera 46\n",
            "Found 1.06 million points\n",
            "Processing camera 47\n",
            "Found 1.06 million points\n",
            "Processing camera 48\n",
            "Found 1.06 million points\n",
            "\t\tELAPSED 3.073911 seconds\n",
            "Writing ply file /content/3D_object_reconstruction/MVSFormer/output/scan1/points_mvsnet//consistencyCheck-20230712-205021//final3d_model.ply\n",
            "store 3D points to ply file\n"
          ]
        }
      ]
    }
  ]
}